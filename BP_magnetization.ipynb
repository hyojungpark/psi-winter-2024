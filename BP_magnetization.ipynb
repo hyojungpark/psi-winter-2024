{
  "cells": [
    {
      "cell_type": "code",
      "execution_count": null,
      "metadata": {
        "id": "wCltDQGAtnX1"
      },
      "outputs": [],
      "source": [
        "import networkx as nx\n",
        "import numpy as np"
      ]
    },
    {
      "cell_type": "code",
      "execution_count": null,
      "metadata": {
        "colab": {
          "base_uri": "https://localhost:8080/",
          "height": 35
        },
        "id": "_pZ7XZzpBcZE",
        "outputId": "38b1173f-449b-484f-dcdd-93f0a0502414"
      },
      "outputs": [
        {
          "data": {
            "application/vnd.google.colaboratory.intrinsic+json": {
              "type": "string"
            },
            "text/plain": [
              "'10'"
            ]
          },
          "execution_count": 39,
          "metadata": {},
          "output_type": "execute_result"
        }
      ],
      "source": [
        "str(bin(2))[2:]"
      ]
    },
    {
      "cell_type": "code",
      "execution_count": null,
      "metadata": {
        "id": "KpXbW57_uBTM"
      },
      "outputs": [],
      "source": [
        "def bp_initialize(G):\n",
        "  \"\"\" Use input G graph to intialize the graph for bp \"\"\"\n",
        "    msgGraph = nx.DiGraph() # create directed graph\n",
        "    msgGraph.add_nodes_from(G)\n",
        "    msgGraph.add_edges_from(G.edges)\n",
        "\n",
        "    for i in range(nx.number_of_nodes(msgGraph)):\n",
        "        for j in msgGraph.neighbors(i):\n",
        "            tnsmsg1, tnsmsg2 = (1/2, 1/2), (1/2, 1/2) # Q matrix rows\n",
        "            msgGraph.add_edge(i, j, msg = tnsmsg1)\n",
        "            msgGraph.add_edge(j, i, msg = tnsmsg2)\n",
        "    return msgGraph\n",
        "\n",
        "# BP iteration - updates msgGraph\n",
        "def bp_iteration(G, beta): #check_nan gives 1 if no NaN, 0 if NaN\n",
        "    dumGraph = nx.DiGraph()\n",
        "    dumGraph.add_nodes_from(msgGraph)\n",
        "    dumGraph.add_edges_from(msgGraph.edges)\n",
        "    check_nan = 1\n",
        "    for i in range(nx.number_of_nodes(G)):\n",
        "        tns_msg = []\n",
        "        for j in G.neighbors(i):\n",
        "            # n: N_j\\i\n",
        "            n = nx.degree(G)[j] - 1\n",
        "            if j != i:\n",
        "              # assume sj = 1 for now\n",
        "              qji = 1\n",
        "              for k in range(2**n):\n",
        "                binary_k = bin(k)[2:].zfill(n) # add zeros in front of the string, to reach length n\n",
        "                sa_array = 2 * np.array(list(str(bin(binary_k))[2:]), dtype=int) - 1\n",
        "                for l in range():\n",
        "                  qji *= np.exp(- beta * 1 * sa_array[l]) * G[sa_array[l]][j]['msg']\n",
        "                qji = np.sum(qji)\n",
        "\n",
        "            H *= beta\n",
        "    return msgGraph, check_nan"
      ]
    },
    {
      "cell_type": "code",
      "execution_count": null,
      "metadata": {
        "colab": {
          "base_uri": "https://localhost:8080/",
          "height": 35
        },
        "id": "K2bQPFHBErI6",
        "outputId": "11a21423-cbd3-4a3b-9fde-c8aa12e7b30a"
      },
      "outputs": [
        {
          "data": {
            "application/vnd.google.colaboratory.intrinsic+json": {
              "type": "string"
            },
            "text/plain": [
              "'01010'"
            ]
          },
          "execution_count": 69,
          "metadata": {},
          "output_type": "execute_result"
        }
      ],
      "source": [
        "bin(10)[2:].zfill(5)"
      ]
    },
    {
      "cell_type": "code",
      "execution_count": null,
      "metadata": {
        "id": "BemrGwZV1136"
      },
      "outputs": [],
      "source": [
        "G = nx.random_regular_graph(2,4)\n",
        "msgGraph = bp_initialize(G)"
      ]
    },
    {
      "cell_type": "code",
      "execution_count": null,
      "metadata": {
        "colab": {
          "base_uri": "https://localhost:8080/"
        },
        "id": "Ooxtu6Cp4t54",
        "outputId": "b4dabfe9-7b1c-4c62-f68c-df8dee8f6e31"
      },
      "outputs": [
        {
          "data": {
            "text/plain": [
              "(0.5, 0.5)"
            ]
          },
          "execution_count": 64,
          "metadata": {},
          "output_type": "execute_result"
        }
      ],
      "source": [
        "# set(G.neighbors(1))\n",
        "# G.edges(1)\n",
        "msgGraph[0][3]['msg']"
      ]
    },
    {
      "cell_type": "code",
      "execution_count": null,
      "metadata": {
        "colab": {
          "base_uri": "https://localhost:8080/",
          "height": 516
        },
        "id": "aS2rjPgi4mKG",
        "outputId": "eebd7af4-c9ac-471d-e55c-a5db4b5cdf12"
      },
      "outputs": [
        {
          "data": {
            "image/png": "[encoded data removed]",
            "text/plain": [
              "<Figure size 640x480 with 1 Axes>"
            ]
          },
          "metadata": {},
          "output_type": "display_data"
        }
      ],
      "source": [
        "nx.draw(G, with_labels=True, font_weight='bold')"
      ]
    },
    {
      "cell_type": "code",
      "execution_count": null,
      "metadata": {
        "colab": {
          "base_uri": "https://localhost:8080/"
        },
        "id": "Dp3wk1Lh4wkR",
        "outputId": "63186111-0922-4a2b-a086-118a438ba2e9"
      },
      "outputs": [
        {
          "data": {
            "text/plain": [
              "1.25"
            ]
          },
          "execution_count": 6,
          "metadata": {},
          "output_type": "execute_result"
        }
      ],
      "source": [
        "DG = nx.DiGraph()\n",
        "\n",
        "DG.add_weighted_edges_from([(1, 2, 0.5), (3, 1, 0.75)])\n",
        "\n",
        "DG.out_degree(1, weight='weight')\n",
        "DG.degree(1, weight='weight')"
      ]
    },
    {
      "cell_type": "code",
      "execution_count": null,
      "metadata": {
        "colab": {
          "base_uri": "https://localhost:8080/"
        },
        "id": "q1Kui19yFND6",
        "outputId": "44e9e803-963f-4fc6-ade4-05cfa1545300"
      },
      "outputs": [
        {
          "data": {
            "text/plain": [
              "[2]"
            ]
          },
          "execution_count": 7,
          "metadata": {},
          "output_type": "execute_result"
        }
      ],
      "source": [
        "list(DG.successors(1))"
      ]
    },
    {
      "cell_type": "code",
      "execution_count": null,
      "metadata": {
        "colab": {
          "base_uri": "https://localhost:8080/"
        },
        "id": "F1X_82CLFOeN",
        "outputId": "06291fe7-c6b1-425a-b959-1e1d12bc25bb"
      },
      "outputs": [
        {
          "data": {
            "text/plain": [
              "[3]"
            ]
          },
          "execution_count": 8,
          "metadata": {},
          "output_type": "execute_result"
        }
      ],
      "source": [
        "list(DG.predecessors(1))"
      ]
    },
    {
      "cell_type": "code",
      "execution_count": null,
      "metadata": {
        "colab": {
          "base_uri": "https://localhost:8080/"
        },
        "id": "q_6OEy2AFPyW",
        "outputId": "dc037510-ce89-4673-c2e4-795057ce58aa"
      },
      "outputs": [
        {
          "name": "stdout",
          "output_type": "stream",
          "text": [
            "Hello\n",
            "hello world\n"
          ]
        }
      ],
      "source": []
    }
  ],
  "metadata": {
    "colab": {
      "provenance": []
    },
    "kernelspec": {
      "display_name": "Python 3",
      "name": "python3"
    },
    "language_info": {
      "name": "python"
    }
  },
  "nbformat": 4,
  "nbformat_minor": 0
}
